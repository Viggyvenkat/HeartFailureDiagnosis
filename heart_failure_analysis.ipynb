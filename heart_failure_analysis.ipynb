{
 "cells": [
  {
   "cell_type": "markdown",
   "metadata": {},
   "source": [
    "# Cardiovascular Gene-Disease Exploration\n",
    "### Authors - Vignesh Venkat, Adarsh Narayanan, Arush Verma\n",
    "### Version 1.1"
   ]
  },
  {
   "cell_type": "code",
   "execution_count": 1,
   "metadata": {},
   "outputs": [],
   "source": [
    "import pandas as pd \n",
    "import numpy as np \n",
    "import matplotlib.pyplot as plt \n",
    "import seaborn as sns \n",
    "import sklearn as sk"
   ]
  },
  {
   "cell_type": "code",
   "execution_count": 2,
   "metadata": {},
   "outputs": [
    {
     "name": "stdout",
     "output_type": "stream",
     "text": [
      "      ID  Gender   Race  Age     Type  FGF2   TEK  GJB6  CD34   ENO2  ...  \\\n",
      "0    648    Male  White   30  Control  0.02  0.06  0.15  0.12   9.63  ...   \n",
      "1    649    Male  White   38  Control  0.01  0.18  0.14  0.26   9.84  ...   \n",
      "2    650    Male  White   69  Control  0.01  0.21  0.27  0.12  11.47  ...   \n",
      "3    651  Female  White   67  Control  0.00  0.34  0.12  0.11  12.22  ...   \n",
      "4    652    Male  White   63  Control  0.00  0.05  0.06  0.09   3.15  ...   \n",
      "..   ...     ...    ...  ...      ...   ...   ...   ...   ...    ...  ...   \n",
      "66  1114  Female  Black   54     Case  0.00  0.00  0.00  0.00   0.41  ...   \n",
      "67  1115    Male  White   67     Case  0.00  0.00  0.00  0.00   0.04  ...   \n",
      "68  1116  Female  White   63     Case  0.00  0.00  0.00  0.00   0.42  ...   \n",
      "69  1117    Male  White   66     Case  0.00  0.00  0.00  0.00   0.14  ...   \n",
      "70  1118    Male  White   88     Case  0.00  0.00  0.00  0.00   0.00  ...   \n",
      "\n",
      "      MB  KANTR  CD40LG  ZBTB8OS  DDX41  PDPN  SLC2A1   FADD    FLNA  \\\n",
      "0   0.00   0.23    7.69     8.55  19.59   0.0   10.58  12.15  199.43   \n",
      "1   0.04   0.11   11.90     9.10  25.92   0.0   10.65  14.68  247.76   \n",
      "2   0.00   0.07    9.20     7.07  17.10   0.0   10.08  10.87  176.39   \n",
      "3   0.05   0.32    7.35    12.65  26.57   0.0   12.98  16.42  241.59   \n",
      "4   0.00   0.06    3.31     8.47  19.40   0.0    8.36  10.17  217.85   \n",
      "..   ...    ...     ...      ...    ...   ...     ...    ...     ...   \n",
      "66  0.00   0.00    3.48     9.41   0.06   0.0    1.01   3.48   47.62   \n",
      "67  0.00   0.00    0.33     8.44   3.38   0.0    2.17   1.28    7.46   \n",
      "68  0.00   0.00    0.09     1.04   0.62   0.0    3.03   0.74   10.42   \n",
      "69  0.00   0.00    0.00     3.41   3.49   0.0    1.23   1.52    7.18   \n",
      "70  0.00   0.00    0.00     3.52   0.00   0.0    0.00   1.04    2.56   \n",
      "\n",
      "         HBA1  \n",
      "0    77750.10  \n",
      "1    96762.83  \n",
      "2    70158.48  \n",
      "3    92901.39  \n",
      "4   127137.70  \n",
      "..        ...  \n",
      "66  164421.05  \n",
      "67  160828.53  \n",
      "68  166089.42  \n",
      "69  179284.75  \n",
      "70  214349.78  \n",
      "\n",
      "[71 rows x 26 columns]\n"
     ]
    }
   ],
   "source": [
    "cvd_df = pd.read_csv('CVD_Data.csv')\n",
    "print(cvd_df)"
   ]
  },
  {
   "cell_type": "code",
   "execution_count": 7,
   "metadata": {},
   "outputs": [
    {
     "data": {
      "text/html": [
       "<div>\n",
       "<style scoped>\n",
       "    .dataframe tbody tr th:only-of-type {\n",
       "        vertical-align: middle;\n",
       "    }\n",
       "\n",
       "    .dataframe tbody tr th {\n",
       "        vertical-align: top;\n",
       "    }\n",
       "\n",
       "    .dataframe thead th {\n",
       "        text-align: right;\n",
       "    }\n",
       "</style>\n",
       "<table border=\"1\" class=\"dataframe\">\n",
       "  <thead>\n",
       "    <tr style=\"text-align: right;\">\n",
       "      <th></th>\n",
       "      <th>ID</th>\n",
       "      <th>Age</th>\n",
       "      <th>FGF2</th>\n",
       "      <th>TEK</th>\n",
       "      <th>GJB6</th>\n",
       "      <th>CD34</th>\n",
       "      <th>ENO2</th>\n",
       "      <th>CALD1</th>\n",
       "      <th>LEMD3</th>\n",
       "      <th>GLMN</th>\n",
       "      <th>...</th>\n",
       "      <th>MB</th>\n",
       "      <th>KANTR</th>\n",
       "      <th>CD40LG</th>\n",
       "      <th>ZBTB8OS</th>\n",
       "      <th>DDX41</th>\n",
       "      <th>PDPN</th>\n",
       "      <th>SLC2A1</th>\n",
       "      <th>FADD</th>\n",
       "      <th>FLNA</th>\n",
       "      <th>HBA1</th>\n",
       "    </tr>\n",
       "  </thead>\n",
       "  <tbody>\n",
       "    <tr>\n",
       "      <th>count</th>\n",
       "      <td>71.000000</td>\n",
       "      <td>71.000000</td>\n",
       "      <td>71.000000</td>\n",
       "      <td>71.000000</td>\n",
       "      <td>71.000000</td>\n",
       "      <td>71.000000</td>\n",
       "      <td>71.000000</td>\n",
       "      <td>71.000000</td>\n",
       "      <td>71.000000</td>\n",
       "      <td>71.000000</td>\n",
       "      <td>...</td>\n",
       "      <td>71.000000</td>\n",
       "      <td>71.000000</td>\n",
       "      <td>71.000000</td>\n",
       "      <td>71.000000</td>\n",
       "      <td>71.000000</td>\n",
       "      <td>71.000000</td>\n",
       "      <td>71.000000</td>\n",
       "      <td>71.000000</td>\n",
       "      <td>71.000000</td>\n",
       "      <td>71.000000</td>\n",
       "    </tr>\n",
       "    <tr>\n",
       "      <th>mean</th>\n",
       "      <td>1026.718310</td>\n",
       "      <td>67.380282</td>\n",
       "      <td>0.019718</td>\n",
       "      <td>0.054225</td>\n",
       "      <td>0.049014</td>\n",
       "      <td>0.078732</td>\n",
       "      <td>3.625493</td>\n",
       "      <td>0.089718</td>\n",
       "      <td>1.445775</td>\n",
       "      <td>0.728310</td>\n",
       "      <td>...</td>\n",
       "      <td>0.004225</td>\n",
       "      <td>0.135352</td>\n",
       "      <td>3.922394</td>\n",
       "      <td>9.254366</td>\n",
       "      <td>10.525493</td>\n",
       "      <td>0.001549</td>\n",
       "      <td>6.174648</td>\n",
       "      <td>6.936901</td>\n",
       "      <td>72.563099</td>\n",
       "      <td>145388.570704</td>\n",
       "    </tr>\n",
       "    <tr>\n",
       "      <th>std</th>\n",
       "      <td>153.320503</td>\n",
       "      <td>12.567948</td>\n",
       "      <td>0.142237</td>\n",
       "      <td>0.098004</td>\n",
       "      <td>0.073972</td>\n",
       "      <td>0.120723</td>\n",
       "      <td>5.176251</td>\n",
       "      <td>0.130767</td>\n",
       "      <td>2.526688</td>\n",
       "      <td>1.106673</td>\n",
       "      <td>...</td>\n",
       "      <td>0.020609</td>\n",
       "      <td>0.255135</td>\n",
       "      <td>4.265595</td>\n",
       "      <td>6.132992</td>\n",
       "      <td>10.962585</td>\n",
       "      <td>0.013055</td>\n",
       "      <td>5.847616</td>\n",
       "      <td>6.022717</td>\n",
       "      <td>90.816684</td>\n",
       "      <td>49501.956320</td>\n",
       "    </tr>\n",
       "    <tr>\n",
       "      <th>min</th>\n",
       "      <td>648.000000</td>\n",
       "      <td>30.000000</td>\n",
       "      <td>0.000000</td>\n",
       "      <td>0.000000</td>\n",
       "      <td>0.000000</td>\n",
       "      <td>0.000000</td>\n",
       "      <td>0.000000</td>\n",
       "      <td>0.000000</td>\n",
       "      <td>0.000000</td>\n",
       "      <td>0.000000</td>\n",
       "      <td>...</td>\n",
       "      <td>0.000000</td>\n",
       "      <td>0.000000</td>\n",
       "      <td>0.000000</td>\n",
       "      <td>0.060000</td>\n",
       "      <td>0.000000</td>\n",
       "      <td>0.000000</td>\n",
       "      <td>0.000000</td>\n",
       "      <td>0.380000</td>\n",
       "      <td>1.030000</td>\n",
       "      <td>18246.890000</td>\n",
       "    </tr>\n",
       "    <tr>\n",
       "      <th>25%</th>\n",
       "      <td>1065.500000</td>\n",
       "      <td>60.000000</td>\n",
       "      <td>0.000000</td>\n",
       "      <td>0.000000</td>\n",
       "      <td>0.000000</td>\n",
       "      <td>0.000000</td>\n",
       "      <td>0.260000</td>\n",
       "      <td>0.000000</td>\n",
       "      <td>0.130000</td>\n",
       "      <td>0.015000</td>\n",
       "      <td>...</td>\n",
       "      <td>0.000000</td>\n",
       "      <td>0.000000</td>\n",
       "      <td>0.550000</td>\n",
       "      <td>4.955000</td>\n",
       "      <td>1.930000</td>\n",
       "      <td>0.000000</td>\n",
       "      <td>2.455000</td>\n",
       "      <td>2.010000</td>\n",
       "      <td>10.355000</td>\n",
       "      <td>104160.865000</td>\n",
       "    </tr>\n",
       "    <tr>\n",
       "      <th>50%</th>\n",
       "      <td>1083.000000</td>\n",
       "      <td>67.000000</td>\n",
       "      <td>0.000000</td>\n",
       "      <td>0.010000</td>\n",
       "      <td>0.010000</td>\n",
       "      <td>0.030000</td>\n",
       "      <td>1.470000</td>\n",
       "      <td>0.030000</td>\n",
       "      <td>0.320000</td>\n",
       "      <td>0.220000</td>\n",
       "      <td>...</td>\n",
       "      <td>0.000000</td>\n",
       "      <td>0.000000</td>\n",
       "      <td>2.110000</td>\n",
       "      <td>8.470000</td>\n",
       "      <td>5.860000</td>\n",
       "      <td>0.000000</td>\n",
       "      <td>4.850000</td>\n",
       "      <td>4.280000</td>\n",
       "      <td>24.480000</td>\n",
       "      <td>150816.460000</td>\n",
       "    </tr>\n",
       "    <tr>\n",
       "      <th>75%</th>\n",
       "      <td>1100.500000</td>\n",
       "      <td>74.000000</td>\n",
       "      <td>0.000000</td>\n",
       "      <td>0.055000</td>\n",
       "      <td>0.070000</td>\n",
       "      <td>0.115000</td>\n",
       "      <td>6.010000</td>\n",
       "      <td>0.125000</td>\n",
       "      <td>1.430000</td>\n",
       "      <td>1.070000</td>\n",
       "      <td>...</td>\n",
       "      <td>0.000000</td>\n",
       "      <td>0.190000</td>\n",
       "      <td>6.820000</td>\n",
       "      <td>10.850000</td>\n",
       "      <td>18.900000</td>\n",
       "      <td>0.000000</td>\n",
       "      <td>8.750000</td>\n",
       "      <td>11.640000</td>\n",
       "      <td>82.575000</td>\n",
       "      <td>176103.185000</td>\n",
       "    </tr>\n",
       "    <tr>\n",
       "      <th>max</th>\n",
       "      <td>1118.000000</td>\n",
       "      <td>92.000000</td>\n",
       "      <td>1.200000</td>\n",
       "      <td>0.420000</td>\n",
       "      <td>0.370000</td>\n",
       "      <td>0.620000</td>\n",
       "      <td>29.440000</td>\n",
       "      <td>0.660000</td>\n",
       "      <td>14.950000</td>\n",
       "      <td>7.080000</td>\n",
       "      <td>...</td>\n",
       "      <td>0.160000</td>\n",
       "      <td>1.060000</td>\n",
       "      <td>17.590000</td>\n",
       "      <td>28.250000</td>\n",
       "      <td>51.090000</td>\n",
       "      <td>0.110000</td>\n",
       "      <td>37.980000</td>\n",
       "      <td>24.770000</td>\n",
       "      <td>296.580000</td>\n",
       "      <td>265408.330000</td>\n",
       "    </tr>\n",
       "  </tbody>\n",
       "</table>\n",
       "<p>8 rows × 23 columns</p>\n",
       "</div>"
      ],
      "text/plain": [
       "                ID        Age       FGF2        TEK       GJB6       CD34  \\\n",
       "count    71.000000  71.000000  71.000000  71.000000  71.000000  71.000000   \n",
       "mean   1026.718310  67.380282   0.019718   0.054225   0.049014   0.078732   \n",
       "std     153.320503  12.567948   0.142237   0.098004   0.073972   0.120723   \n",
       "min     648.000000  30.000000   0.000000   0.000000   0.000000   0.000000   \n",
       "25%    1065.500000  60.000000   0.000000   0.000000   0.000000   0.000000   \n",
       "50%    1083.000000  67.000000   0.000000   0.010000   0.010000   0.030000   \n",
       "75%    1100.500000  74.000000   0.000000   0.055000   0.070000   0.115000   \n",
       "max    1118.000000  92.000000   1.200000   0.420000   0.370000   0.620000   \n",
       "\n",
       "            ENO2      CALD1      LEMD3       GLMN  ...         MB      KANTR  \\\n",
       "count  71.000000  71.000000  71.000000  71.000000  ...  71.000000  71.000000   \n",
       "mean    3.625493   0.089718   1.445775   0.728310  ...   0.004225   0.135352   \n",
       "std     5.176251   0.130767   2.526688   1.106673  ...   0.020609   0.255135   \n",
       "min     0.000000   0.000000   0.000000   0.000000  ...   0.000000   0.000000   \n",
       "25%     0.260000   0.000000   0.130000   0.015000  ...   0.000000   0.000000   \n",
       "50%     1.470000   0.030000   0.320000   0.220000  ...   0.000000   0.000000   \n",
       "75%     6.010000   0.125000   1.430000   1.070000  ...   0.000000   0.190000   \n",
       "max    29.440000   0.660000  14.950000   7.080000  ...   0.160000   1.060000   \n",
       "\n",
       "          CD40LG    ZBTB8OS      DDX41       PDPN     SLC2A1       FADD  \\\n",
       "count  71.000000  71.000000  71.000000  71.000000  71.000000  71.000000   \n",
       "mean    3.922394   9.254366  10.525493   0.001549   6.174648   6.936901   \n",
       "std     4.265595   6.132992  10.962585   0.013055   5.847616   6.022717   \n",
       "min     0.000000   0.060000   0.000000   0.000000   0.000000   0.380000   \n",
       "25%     0.550000   4.955000   1.930000   0.000000   2.455000   2.010000   \n",
       "50%     2.110000   8.470000   5.860000   0.000000   4.850000   4.280000   \n",
       "75%     6.820000  10.850000  18.900000   0.000000   8.750000  11.640000   \n",
       "max    17.590000  28.250000  51.090000   0.110000  37.980000  24.770000   \n",
       "\n",
       "             FLNA           HBA1  \n",
       "count   71.000000      71.000000  \n",
       "mean    72.563099  145388.570704  \n",
       "std     90.816684   49501.956320  \n",
       "min      1.030000   18246.890000  \n",
       "25%     10.355000  104160.865000  \n",
       "50%     24.480000  150816.460000  \n",
       "75%     82.575000  176103.185000  \n",
       "max    296.580000  265408.330000  \n",
       "\n",
       "[8 rows x 23 columns]"
      ]
     },
     "execution_count": 7,
     "metadata": {},
     "output_type": "execute_result"
    }
   ],
   "source": [
    "cvd_df.describe()"
   ]
  },
  {
   "cell_type": "code",
   "execution_count": 8,
   "metadata": {},
   "outputs": [
    {
     "name": "stdout",
     "output_type": "stream",
     "text": [
      "<class 'pandas.core.frame.DataFrame'>\n",
      "RangeIndex: 71 entries, 0 to 70\n",
      "Data columns (total 26 columns):\n",
      " #   Column   Non-Null Count  Dtype  \n",
      "---  ------   --------------  -----  \n",
      " 0   ID       71 non-null     int64  \n",
      " 1   Gender   71 non-null     object \n",
      " 2   Race     63 non-null     object \n",
      " 3   Age      71 non-null     int64  \n",
      " 4   Type     71 non-null     object \n",
      " 5   FGF2     71 non-null     float64\n",
      " 6   TEK      71 non-null     float64\n",
      " 7   GJB6     71 non-null     float64\n",
      " 8   CD34     71 non-null     float64\n",
      " 9   ENO2     71 non-null     float64\n",
      " 10  CALD1    71 non-null     float64\n",
      " 11  LEMD3    71 non-null     float64\n",
      " 12  GLMN     71 non-null     float64\n",
      " 13  ATP2A2   71 non-null     float64\n",
      " 14  TRPV1    71 non-null     float64\n",
      " 15  SMUG1    71 non-null     float64\n",
      " 16  MB       71 non-null     float64\n",
      " 17  KANTR    71 non-null     float64\n",
      " 18  CD40LG   71 non-null     float64\n",
      " 19  ZBTB8OS  71 non-null     float64\n",
      " 20  DDX41    71 non-null     float64\n",
      " 21  PDPN     71 non-null     float64\n",
      " 22  SLC2A1   71 non-null     float64\n",
      " 23  FADD     71 non-null     float64\n",
      " 24  FLNA     71 non-null     float64\n",
      " 25  HBA1     71 non-null     float64\n",
      "dtypes: float64(21), int64(2), object(3)\n",
      "memory usage: 14.5+ KB\n"
     ]
    }
   ],
   "source": [
    "cvd_df.info()"
   ]
  },
  {
   "cell_type": "code",
   "execution_count": 3,
   "metadata": {},
   "outputs": [],
   "source": [
    "clinical_cvd_df = cvd_df[['ID', 'Gender','Age','Race','Type']]"
   ]
  },
  {
   "cell_type": "code",
   "execution_count": 4,
   "metadata": {},
   "outputs": [
    {
     "data": {
      "text/html": [
       "<div>\n",
       "<style scoped>\n",
       "    .dataframe tbody tr th:only-of-type {\n",
       "        vertical-align: middle;\n",
       "    }\n",
       "\n",
       "    .dataframe tbody tr th {\n",
       "        vertical-align: top;\n",
       "    }\n",
       "\n",
       "    .dataframe thead th {\n",
       "        text-align: right;\n",
       "    }\n",
       "</style>\n",
       "<table border=\"1\" class=\"dataframe\">\n",
       "  <thead>\n",
       "    <tr style=\"text-align: right;\">\n",
       "      <th></th>\n",
       "      <th>ID</th>\n",
       "      <th>Gender</th>\n",
       "      <th>Age</th>\n",
       "      <th>Race</th>\n",
       "      <th>Type</th>\n",
       "    </tr>\n",
       "  </thead>\n",
       "  <tbody>\n",
       "    <tr>\n",
       "      <th>0</th>\n",
       "      <td>648</td>\n",
       "      <td>Male</td>\n",
       "      <td>30</td>\n",
       "      <td>White</td>\n",
       "      <td>Control</td>\n",
       "    </tr>\n",
       "    <tr>\n",
       "      <th>1</th>\n",
       "      <td>649</td>\n",
       "      <td>Male</td>\n",
       "      <td>38</td>\n",
       "      <td>White</td>\n",
       "      <td>Control</td>\n",
       "    </tr>\n",
       "    <tr>\n",
       "      <th>2</th>\n",
       "      <td>650</td>\n",
       "      <td>Male</td>\n",
       "      <td>69</td>\n",
       "      <td>White</td>\n",
       "      <td>Control</td>\n",
       "    </tr>\n",
       "    <tr>\n",
       "      <th>3</th>\n",
       "      <td>651</td>\n",
       "      <td>Female</td>\n",
       "      <td>67</td>\n",
       "      <td>White</td>\n",
       "      <td>Control</td>\n",
       "    </tr>\n",
       "    <tr>\n",
       "      <th>4</th>\n",
       "      <td>652</td>\n",
       "      <td>Male</td>\n",
       "      <td>63</td>\n",
       "      <td>White</td>\n",
       "      <td>Control</td>\n",
       "    </tr>\n",
       "  </tbody>\n",
       "</table>\n",
       "</div>"
      ],
      "text/plain": [
       "    ID  Gender  Age   Race     Type\n",
       "0  648    Male   30  White  Control\n",
       "1  649    Male   38  White  Control\n",
       "2  650    Male   69  White  Control\n",
       "3  651  Female   67  White  Control\n",
       "4  652    Male   63  White  Control"
      ]
     },
     "execution_count": 4,
     "metadata": {},
     "output_type": "execute_result"
    }
   ],
   "source": [
    "clinical_cvd_df.head()"
   ]
  },
  {
   "cell_type": "code",
   "execution_count": 5,
   "metadata": {},
   "outputs": [],
   "source": [
    "genomic_cvd_df = cvd_df.drop(['Gender','Age','Race'], axis = 1)"
   ]
  },
  {
   "cell_type": "code",
   "execution_count": 6,
   "metadata": {},
   "outputs": [
    {
     "data": {
      "text/html": [
       "<div>\n",
       "<style scoped>\n",
       "    .dataframe tbody tr th:only-of-type {\n",
       "        vertical-align: middle;\n",
       "    }\n",
       "\n",
       "    .dataframe tbody tr th {\n",
       "        vertical-align: top;\n",
       "    }\n",
       "\n",
       "    .dataframe thead th {\n",
       "        text-align: right;\n",
       "    }\n",
       "</style>\n",
       "<table border=\"1\" class=\"dataframe\">\n",
       "  <thead>\n",
       "    <tr style=\"text-align: right;\">\n",
       "      <th></th>\n",
       "      <th>ID</th>\n",
       "      <th>Type</th>\n",
       "      <th>FGF2</th>\n",
       "      <th>TEK</th>\n",
       "      <th>GJB6</th>\n",
       "      <th>CD34</th>\n",
       "      <th>ENO2</th>\n",
       "      <th>CALD1</th>\n",
       "      <th>LEMD3</th>\n",
       "      <th>GLMN</th>\n",
       "      <th>...</th>\n",
       "      <th>MB</th>\n",
       "      <th>KANTR</th>\n",
       "      <th>CD40LG</th>\n",
       "      <th>ZBTB8OS</th>\n",
       "      <th>DDX41</th>\n",
       "      <th>PDPN</th>\n",
       "      <th>SLC2A1</th>\n",
       "      <th>FADD</th>\n",
       "      <th>FLNA</th>\n",
       "      <th>HBA1</th>\n",
       "    </tr>\n",
       "  </thead>\n",
       "  <tbody>\n",
       "    <tr>\n",
       "      <th>0</th>\n",
       "      <td>648</td>\n",
       "      <td>Control</td>\n",
       "      <td>0.02</td>\n",
       "      <td>0.06</td>\n",
       "      <td>0.15</td>\n",
       "      <td>0.12</td>\n",
       "      <td>9.63</td>\n",
       "      <td>0.44</td>\n",
       "      <td>4.89</td>\n",
       "      <td>1.92</td>\n",
       "      <td>...</td>\n",
       "      <td>0.00</td>\n",
       "      <td>0.23</td>\n",
       "      <td>7.69</td>\n",
       "      <td>8.55</td>\n",
       "      <td>19.59</td>\n",
       "      <td>0.0</td>\n",
       "      <td>10.58</td>\n",
       "      <td>12.15</td>\n",
       "      <td>199.43</td>\n",
       "      <td>77750.10</td>\n",
       "    </tr>\n",
       "    <tr>\n",
       "      <th>1</th>\n",
       "      <td>649</td>\n",
       "      <td>Control</td>\n",
       "      <td>0.01</td>\n",
       "      <td>0.18</td>\n",
       "      <td>0.14</td>\n",
       "      <td>0.26</td>\n",
       "      <td>9.84</td>\n",
       "      <td>0.35</td>\n",
       "      <td>4.85</td>\n",
       "      <td>2.47</td>\n",
       "      <td>...</td>\n",
       "      <td>0.04</td>\n",
       "      <td>0.11</td>\n",
       "      <td>11.90</td>\n",
       "      <td>9.10</td>\n",
       "      <td>25.92</td>\n",
       "      <td>0.0</td>\n",
       "      <td>10.65</td>\n",
       "      <td>14.68</td>\n",
       "      <td>247.76</td>\n",
       "      <td>96762.83</td>\n",
       "    </tr>\n",
       "    <tr>\n",
       "      <th>2</th>\n",
       "      <td>650</td>\n",
       "      <td>Control</td>\n",
       "      <td>0.01</td>\n",
       "      <td>0.21</td>\n",
       "      <td>0.27</td>\n",
       "      <td>0.12</td>\n",
       "      <td>11.47</td>\n",
       "      <td>0.19</td>\n",
       "      <td>6.06</td>\n",
       "      <td>1.33</td>\n",
       "      <td>...</td>\n",
       "      <td>0.00</td>\n",
       "      <td>0.07</td>\n",
       "      <td>9.20</td>\n",
       "      <td>7.07</td>\n",
       "      <td>17.10</td>\n",
       "      <td>0.0</td>\n",
       "      <td>10.08</td>\n",
       "      <td>10.87</td>\n",
       "      <td>176.39</td>\n",
       "      <td>70158.48</td>\n",
       "    </tr>\n",
       "    <tr>\n",
       "      <th>3</th>\n",
       "      <td>651</td>\n",
       "      <td>Control</td>\n",
       "      <td>0.00</td>\n",
       "      <td>0.34</td>\n",
       "      <td>0.12</td>\n",
       "      <td>0.11</td>\n",
       "      <td>12.22</td>\n",
       "      <td>0.24</td>\n",
       "      <td>7.31</td>\n",
       "      <td>2.52</td>\n",
       "      <td>...</td>\n",
       "      <td>0.05</td>\n",
       "      <td>0.32</td>\n",
       "      <td>7.35</td>\n",
       "      <td>12.65</td>\n",
       "      <td>26.57</td>\n",
       "      <td>0.0</td>\n",
       "      <td>12.98</td>\n",
       "      <td>16.42</td>\n",
       "      <td>241.59</td>\n",
       "      <td>92901.39</td>\n",
       "    </tr>\n",
       "    <tr>\n",
       "      <th>4</th>\n",
       "      <td>652</td>\n",
       "      <td>Control</td>\n",
       "      <td>0.00</td>\n",
       "      <td>0.05</td>\n",
       "      <td>0.06</td>\n",
       "      <td>0.09</td>\n",
       "      <td>3.15</td>\n",
       "      <td>0.20</td>\n",
       "      <td>3.10</td>\n",
       "      <td>1.00</td>\n",
       "      <td>...</td>\n",
       "      <td>0.00</td>\n",
       "      <td>0.06</td>\n",
       "      <td>3.31</td>\n",
       "      <td>8.47</td>\n",
       "      <td>19.40</td>\n",
       "      <td>0.0</td>\n",
       "      <td>8.36</td>\n",
       "      <td>10.17</td>\n",
       "      <td>217.85</td>\n",
       "      <td>127137.70</td>\n",
       "    </tr>\n",
       "  </tbody>\n",
       "</table>\n",
       "<p>5 rows × 23 columns</p>\n",
       "</div>"
      ],
      "text/plain": [
       "    ID     Type  FGF2   TEK  GJB6  CD34   ENO2  CALD1  LEMD3  GLMN  ...    MB  \\\n",
       "0  648  Control  0.02  0.06  0.15  0.12   9.63   0.44   4.89  1.92  ...  0.00   \n",
       "1  649  Control  0.01  0.18  0.14  0.26   9.84   0.35   4.85  2.47  ...  0.04   \n",
       "2  650  Control  0.01  0.21  0.27  0.12  11.47   0.19   6.06  1.33  ...  0.00   \n",
       "3  651  Control  0.00  0.34  0.12  0.11  12.22   0.24   7.31  2.52  ...  0.05   \n",
       "4  652  Control  0.00  0.05  0.06  0.09   3.15   0.20   3.10  1.00  ...  0.00   \n",
       "\n",
       "   KANTR  CD40LG  ZBTB8OS  DDX41  PDPN  SLC2A1   FADD    FLNA       HBA1  \n",
       "0   0.23    7.69     8.55  19.59   0.0   10.58  12.15  199.43   77750.10  \n",
       "1   0.11   11.90     9.10  25.92   0.0   10.65  14.68  247.76   96762.83  \n",
       "2   0.07    9.20     7.07  17.10   0.0   10.08  10.87  176.39   70158.48  \n",
       "3   0.32    7.35    12.65  26.57   0.0   12.98  16.42  241.59   92901.39  \n",
       "4   0.06    3.31     8.47  19.40   0.0    8.36  10.17  217.85  127137.70  \n",
       "\n",
       "[5 rows x 23 columns]"
      ]
     },
     "execution_count": 6,
     "metadata": {},
     "output_type": "execute_result"
    }
   ],
   "source": [
    "genomic_cvd_df.head()\n",
    "#FGF2,TEK,GJB6,CD34,ENO2,CALD1,LEMD3,GLMN,ATP2A2,TRPV1,SMUG1,MB,KANTR,CD40LG,ZBTB8OS,DDX41,PDPN,SLC2A1,FADD,FLNA,HBA1"
   ]
  },
  {
   "cell_type": "code",
   "execution_count": 11,
   "metadata": {},
   "outputs": [
    {
     "data": {
      "image/png": "[encoded data removed]",
      "text/plain": [
       "<Figure size 432x288 with 1 Axes>"
      ]
     },
     "metadata": {
      "needs_background": "light"
     },
     "output_type": "display_data"
    }
   ],
   "source": [
    "ax = sns.boxplot(x='Type', y='FGF2', data=genomic_cvd_df, orient=\"v\")"
   ]
  },
  {
   "cell_type": "code",
   "execution_count": 55,
   "metadata": {},
   "outputs": [
    {
     "data": {
      "text/plain": [
       "<matplotlib.axes._subplots.AxesSubplot at 0x7fe9703a8390>"
      ]
     },
     "execution_count": 55,
     "metadata": {},
     "output_type": "execute_result"
    },
    {
     "data": {
      "image/png": "[encoded data removed]",
      "text/plain": [
       "<Figure size 360x360 with 1 Axes>"
      ]
     },
     "metadata": {
      "needs_background": "light"
     },
     "output_type": "display_data"
    }
   ],
   "source": [
    "plt.figure(figsize=(5,5))\n",
    "sns.stripplot(x='Type', y='FGF2', data=cvd_df, \n",
    "jitter=True, hue='Gender', dodge=True, palette='viridis')"
   ]
  },
  {
   "cell_type": "code",
   "execution_count": 12,
   "metadata": {},
   "outputs": [
    {
     "data": {
      "image/png": "[encoded data removed]",
      "text/plain": [
       "<Figure size 432x288 with 1 Axes>"
      ]
     },
     "metadata": {
      "needs_background": "light"
     },
     "output_type": "display_data"
    }
   ],
   "source": [
    "ax = sns.boxplot(x='Type', y='TEK', data=genomic_cvd_df, orient=\"v\")"
   ]
  },
  {
   "cell_type": "code",
   "execution_count": 56,
   "metadata": {},
   "outputs": [
    {
     "data": {
      "text/plain": [
       "<matplotlib.axes._subplots.AxesSubplot at 0x7fe970598950>"
      ]
     },
     "execution_count": 56,
     "metadata": {},
     "output_type": "execute_result"
    },
    {
     "data": {
      "image/png": "[encoded data removed]",
      "text/plain": [
       "<Figure size 360x360 with 1 Axes>"
      ]
     },
     "metadata": {
      "needs_background": "light"
     },
     "output_type": "display_data"
    }
   ],
   "source": [
    "plt.figure(figsize=(5,5))\n",
    "sns.stripplot(x='Type', y='TEK', data=cvd_df, \n",
    "jitter=True, hue='Gender', dodge=True, palette='viridis')"
   ]
  },
  {
   "cell_type": "code",
   "execution_count": 13,
   "metadata": {},
   "outputs": [
    {
     "data": {
      "image/png": "[encoded data removed]",
      "text/plain": [
       "<Figure size 432x288 with 1 Axes>"
      ]
     },
     "metadata": {
      "needs_background": "light"
     },
     "output_type": "display_data"
    }
   ],
   "source": [
    "ax = sns.boxplot(x='Type', y='GJB6', data=genomic_cvd_df, orient=\"v\")"
   ]
  },
  {
   "cell_type": "code",
   "execution_count": 40,
   "metadata": {},
   "outputs": [
    {
     "data": {
      "text/plain": [
       "<matplotlib.axes._subplots.AxesSubplot at 0x7fe96f8e55d0>"
      ]
     },
     "execution_count": 40,
     "metadata": {},
     "output_type": "execute_result"
    },
    {
     "data": {
      "image/png": "[encoded data removed]",
      "text/plain": [
       "<Figure size 432x288 with 1 Axes>"
      ]
     },
     "metadata": {
      "needs_background": "light"
     },
     "output_type": "display_data"
    }
   ],
   "source": [
    "plt.figure(figsize=(6,4))\n",
    "sns.stripplot(x='Type', y='GJB6', data=cvd_df, \n",
    "jitter=True, hue='Gender', dodge=True, palette='viridis')"
   ]
  },
  {
   "cell_type": "code",
   "execution_count": 14,
   "metadata": {},
   "outputs": [
    {
     "data": {
      "image/png": "[encoded data removed]",
      "text/plain": [
       "<Figure size 432x288 with 1 Axes>"
      ]
     },
     "metadata": {
      "needs_background": "light"
     },
     "output_type": "display_data"
    }
   ],
   "source": [
    "ax = sns.boxplot(x='Type', y='CD34', data=genomic_cvd_df, orient=\"v\")"
   ]
  },
  {
   "cell_type": "code",
   "execution_count": 41,
   "metadata": {},
   "outputs": [
    {
     "data": {
      "text/plain": [
       "<matplotlib.axes._subplots.AxesSubplot at 0x7fe96eef4c90>"
      ]
     },
     "execution_count": 41,
     "metadata": {},
     "output_type": "execute_result"
    },
    {
     "data": {
      "image/png": "[encoded data removed]",
      "text/plain": [
       "<Figure size 432x288 with 1 Axes>"
      ]
     },
     "metadata": {
      "needs_background": "light"
     },
     "output_type": "display_data"
    }
   ],
   "source": [
    "plt.figure(figsize=(6,4))\n",
    "sns.stripplot(x='Type', y='CD34', data=cvd_df, \n",
    "jitter=True, hue='Gender', dodge=True, palette='viridis')"
   ]
  },
  {
   "cell_type": "code",
   "execution_count": 15,
   "metadata": {},
   "outputs": [
    {
     "data": {
      "image/png": "[encoded data removed]",
      "text/plain": [
       "<Figure size 432x288 with 1 Axes>"
      ]
     },
     "metadata": {
      "needs_background": "light"
     },
     "output_type": "display_data"
    }
   ],
   "source": [
    "ax = sns.boxplot(x='Type', y='ENO2', data=genomic_cvd_df, orient=\"v\")"
   ]
  },
  {
   "cell_type": "code",
   "execution_count": 42,
   "metadata": {},
   "outputs": [
    {
     "data": {
      "text/plain": [
       "<matplotlib.axes._subplots.AxesSubplot at 0x7fe96f081890>"
      ]
     },
     "execution_count": 42,
     "metadata": {},
     "output_type": "execute_result"
    },
    {
     "data": {
      "image/png": "[encoded data removed]",
      "text/plain": [
       "<Figure size 432x288 with 1 Axes>"
      ]
     },
     "metadata": {
      "needs_background": "light"
     },
     "output_type": "display_data"
    }
   ],
   "source": [
    "plt.figure(figsize=(6,4))\n",
    "sns.stripplot(x='Type', y='ENO2', data=cvd_df, \n",
    "jitter=True, hue='Gender', dodge=True, palette='viridis')"
   ]
  },
  {
   "cell_type": "code",
   "execution_count": 17,
   "metadata": {},
   "outputs": [
    {
     "data": {
      "image/png": "[encoded data removed]",
      "text/plain": [
       "<Figure size 432x288 with 1 Axes>"
      ]
     },
     "metadata": {
      "needs_background": "light"
     },
     "output_type": "display_data"
    }
   ],
   "source": [
    "ax = sns.boxplot(x='Type', y='LEMD3', data=genomic_cvd_df, orient=\"v\")"
   ]
  },
  {
   "cell_type": "code",
   "execution_count": 57,
   "metadata": {},
   "outputs": [
    {
     "data": {
      "text/plain": [
       "<matplotlib.axes._subplots.AxesSubplot at 0x7fe970672b90>"
      ]
     },
     "execution_count": 57,
     "metadata": {},
     "output_type": "execute_result"
    },
    {
     "data": {
      "image/png": "[encoded data removed]",
      "text/plain": [
       "<Figure size 432x288 with 1 Axes>"
      ]
     },
     "metadata": {
      "needs_background": "light"
     },
     "output_type": "display_data"
    }
   ],
   "source": [
    "plt.figure(figsize=(8,))\n",
    "sns.stripplot(x='Type', y='LEMD3', data=cvd_df, \n",
    "jitter=True, hue='Gender', dodge=True, palette='viridis')"
   ]
  },
  {
   "cell_type": "code",
   "execution_count": 18,
   "metadata": {},
   "outputs": [
    {
     "data": {
      "image/png": "[encoded data removed]",
      "text/plain": [
       "<Figure size 432x288 with 1 Axes>"
      ]
     },
     "metadata": {
      "needs_background": "light"
     },
     "output_type": "display_data"
    }
   ],
   "source": [
    "ax = sns.boxplot(x='Type', y='GLMN', data=genomic_cvd_df, orient=\"v\")"
   ]
  },
  {
   "cell_type": "code",
   "execution_count": 19,
   "metadata": {},
   "outputs": [
    {
     "data": {
      "image/png": "[encoded data removed]",
      "text/plain": [
       "<Figure size 432x288 with 1 Axes>"
      ]
     },
     "metadata": {
      "needs_background": "light"
     },
     "output_type": "display_data"
    }
   ],
   "source": [
    "ax = sns.boxplot(x='Type', y='ATP2A2', data=genomic_cvd_df, orient=\"v\")"
   ]
  },
  {
   "cell_type": "code",
   "execution_count": 20,
   "metadata": {},
   "outputs": [
    {
     "data": {
      "image/png": "[encoded data removed]",
      "text/plain": [
       "<Figure size 432x288 with 1 Axes>"
      ]
     },
     "metadata": {
      "needs_background": "light"
     },
     "output_type": "display_data"
    }
   ],
   "source": [
    "ax = sns.boxplot(x='Type', y='TRPV1', data=genomic_cvd_df, orient=\"v\")"
   ]
  },
  {
   "cell_type": "code",
   "execution_count": 21,
   "metadata": {},
   "outputs": [
    {
     "data": {
      "image/png": "[encoded data removed]",
      "text/plain": [
       "<Figure size 432x288 with 1 Axes>"
      ]
     },
     "metadata": {
      "needs_background": "light"
     },
     "output_type": "display_data"
    }
   ],
   "source": [
    "ax = sns.boxplot(x='Type', y='SMUG1', data=genomic_cvd_df, orient=\"v\")"
   ]
  },
  {
   "cell_type": "code",
   "execution_count": 24,
   "metadata": {},
   "outputs": [
    {
     "data": {
      "image/png": "[encoded data removed]",
      "text/plain": [
       "<Figure size 432x288 with 1 Axes>"
      ]
     },
     "metadata": {
      "needs_background": "light"
     },
     "output_type": "display_data"
    }
   ],
   "source": [
    "ax = sns.boxplot(x='Type', y='CD40LG', data=genomic_cvd_df, orient=\"v\")"
   ]
  },
  {
   "cell_type": "code",
   "execution_count": 23,
   "metadata": {},
   "outputs": [
    {
     "data": {
      "image/png": "[encoded data removed]",
      "text/plain": [
       "<Figure size 432x288 with 1 Axes>"
      ]
     },
     "metadata": {
      "needs_background": "light"
     },
     "output_type": "display_data"
    }
   ],
   "source": [
    "ax = sns.boxplot(x='Type', y='KANTR', data=genomic_cvd_df, orient=\"v\")"
   ]
  },
  {
   "cell_type": "code",
   "execution_count": 25,
   "metadata": {},
   "outputs": [
    {
     "data": {
      "image/png": "[encoded data removed]",
      "text/plain": [
       "<Figure size 432x288 with 1 Axes>"
      ]
     },
     "metadata": {
      "needs_background": "light"
     },
     "output_type": "display_data"
    }
   ],
   "source": [
    "ax = sns.boxplot(x='Type', y='MB', data=genomic_cvd_df, orient=\"v\")"
   ]
  },
  {
   "cell_type": "code",
   "execution_count": 26,
   "metadata": {},
   "outputs": [
    {
     "data": {
      "image/png": "[encoded data removed]",
      "text/plain": [
       "<Figure size 432x288 with 1 Axes>"
      ]
     },
     "metadata": {
      "needs_background": "light"
     },
     "output_type": "display_data"
    }
   ],
   "source": [
    "ax = sns.boxplot(x='Type', y='ZBTB8OS', data=genomic_cvd_df, orient=\"v\")"
   ]
  },
  {
   "cell_type": "code",
   "execution_count": 27,
   "metadata": {},
   "outputs": [
    {
     "data": {
      "image/png": "[encoded data removed]",
      "text/plain": [
       "<Figure size 432x288 with 1 Axes>"
      ]
     },
     "metadata": {
      "needs_background": "light"
     },
     "output_type": "display_data"
    }
   ],
   "source": [
    "ax = sns.boxplot(x='Type', y='DDX41', data=genomic_cvd_df, orient=\"v\")"
   ]
  },
  {
   "cell_type": "code",
   "execution_count": 28,
   "metadata": {},
   "outputs": [
    {
     "data": {
      "image/png": "[encoded data removed]",
      "text/plain": [
       "<Figure size 432x288 with 1 Axes>"
      ]
     },
     "metadata": {
      "needs_background": "light"
     },
     "output_type": "display_data"
    }
   ],
   "source": [
    "ax = sns.boxplot(x='Type', y='PDPN', data=genomic_cvd_df, orient=\"v\")"
   ]
  },
  {
   "cell_type": "code",
   "execution_count": 29,
   "metadata": {},
   "outputs": [
    {
     "data": {
      "image/png": "[encoded data removed]",
      "text/plain": [
       "<Figure size 432x288 with 1 Axes>"
      ]
     },
     "metadata": {
      "needs_background": "light"
     },
     "output_type": "display_data"
    }
   ],
   "source": [
    "ax = sns.boxplot(x='Type', y='SLC2A1', data=genomic_cvd_df, orient=\"v\")"
   ]
  },
  {
   "cell_type": "code",
   "execution_count": 30,
   "metadata": {},
   "outputs": [
    {
     "data": {
      "image/png": "[encoded data removed]",
      "text/plain": [
       "<Figure size 432x288 with 1 Axes>"
      ]
     },
     "metadata": {
      "needs_background": "light"
     },
     "output_type": "display_data"
    }
   ],
   "source": [
    "ax = sns.boxplot(x='Type', y='FADD', data=genomic_cvd_df, orient=\"v\")"
   ]
  },
  {
   "cell_type": "code",
   "execution_count": 31,
   "metadata": {},
   "outputs": [
    {
     "data": {
      "image/png": "[encoded data removed]",
      "text/plain": [
       "<Figure size 432x288 with 1 Axes>"
      ]
     },
     "metadata": {
      "needs_background": "light"
     },
     "output_type": "display_data"
    }
   ],
   "source": [
    "ax = sns.boxplot(x='Type', y='FLNA', data=genomic_cvd_df, orient=\"v\")"
   ]
  },
  {
   "cell_type": "code",
   "execution_count": 32,
   "metadata": {},
   "outputs": [
    {
     "data": {
      "image/png": "[encoded data removed]",
      "text/plain": [
       "<Figure size 432x288 with 1 Axes>"
      ]
     },
     "metadata": {
      "needs_background": "light"
     },
     "output_type": "display_data"
    }
   ],
   "source": [
    "ax = sns.boxplot(x='Type', y='HBA1', data=genomic_cvd_df, orient=\"v\")"
   ]
  }
 ],
 "metadata": {
  "kernelspec": {
   "display_name": "Python 3.7.6 ('base')",
   "language": "python",
   "name": "python3"
  },
  "language_info": {
   "codemirror_mode": {
    "name": "ipython",
    "version": 3
   },
   "file_extension": ".py",
   "mimetype": "text/x-python",
   "name": "python",
   "nbconvert_exporter": "python",
   "pygments_lexer": "ipython3",
   "version": "3.7.6"
  },
  "orig_nbformat": 4,
  "vscode": {
   "interpreter": {
    "hash": "2324b7bbde87b8a7acf90f15538528e7ed09a184065df7689e1c95b89408f3f6"
   }
  }
 },
 "nbformat": 4,
 "nbformat_minor": 2
}
